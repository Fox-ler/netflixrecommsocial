{
 "cells": [
  {
   "cell_type": "markdown",
   "metadata": {},
   "source": [
    "# 🍿 Aanbevelingen gebaseerd op gemiddelde beoordelingen\n",
    "In dit notebook berekenen we de gemiddelde beoordeling voor elke film in onze dataset. Dit geeft inzicht in hoe goed elke film gemiddeld wordt ontvangen en helpt ons niet alleen de meest populaire films te identificeren, maar ook films met een hogere gebruikerswaardering. Door de gemiddelde beoordelingen te begrijpen, kunnen we aanbevelingen prioriteren voor films die zowel populair als goed beoordeeld zijn.\n"
   ]
  },
  {
   "cell_type": "markdown",
   "metadata": {},
   "source": [
    "### 1. Bereken de gemiddelde beoordelingen"
   ]
  },
  {
   "cell_type": "code",
   "execution_count": null,
   "metadata": {},
   "outputs": [],
   "source": [
    "# Import the pandas library\n",
    "import pandas as pd\n",
    "\n",
    "# Load the ratings data into a DataFrame\n",
    "df = pd.read_csv('data/ratings.csv')\n",
    "\n",
    "# Group the data by 'movieId' and calculate the average rating for each movie\n",
    "\n",
    "# Code goes here\n",
    "\n",
    "# Rename the 'rating' column to 'average_rating' for clarity\n",
    "\n",
    "# Code goes here\n",
    "\n",
    "# Sort the DataFrame by average rating in descending order\n",
    "\n",
    "# Code goes here\n",
    "\n",
    "# Display the DataFrame with average ratings\n",
    "\n",
    "# Code goes here\n"
   ]
  },
  {
   "cell_type": "markdown",
   "metadata": {},
   "source": [
    "### 2. Sla de aanbevelingen op\n",
    "\"Kies de top 10 op basis van beoordelingen en sla deze op als `recommendations-ratings-avg.csv`, waarbij je het bestaande bestand in de app-directory vervangt. Zorg ervoor dat het bestand de kolommen `movieId;mean` bevat. Nadat je het hebt opgeslagen, kun je Streamlit vernieuwen om de resultaten te zien.\""
   ]
  },
  {
   "cell_type": "code",
   "execution_count": null,
   "metadata": {},
   "outputs": [],
   "source": [
    "# Code goes here"
   ]
  },
  {
   "cell_type": "markdown",
   "metadata": {},
   "source": [
    "### 3. Reflecteer op de aanbevelingen\n",
    "Bekijk de gemiddelde beoordeling en het aantal beoordelingen voor de top 10 films. Denk na over waarom het uitsluitend gebruiken van gemiddelde beoordelingen niet de beste methode is voor aanbevelingen.\n"
   ]
  }
 ],
 "metadata": {
  "kernelspec": {
   "display_name": "Python 3",
   "language": "python",
   "name": "python3"
  },
  "language_info": {
   "codemirror_mode": {
    "name": "ipython",
    "version": 3
   },
   "file_extension": ".py",
   "mimetype": "text/x-python",
   "name": "python",
   "nbconvert_exporter": "python",
   "pygments_lexer": "ipython3",
   "version": "3.12.1"
  }
 },
 "nbformat": 4,
 "nbformat_minor": 2
}
