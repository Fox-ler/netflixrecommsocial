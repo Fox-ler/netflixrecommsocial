{
 "cells": [
  {
   "cell_type": "markdown",
   "metadata": {},
   "source": [
    "# 🍿 Content-Based Aanbevelingen\n",
    "\n",
    "In dit notebook laten we snel zien hoe je een **content-based** aanbevelingssysteem kunt opzetten. Bij content-based filtering worden aanbevelingen gedaan op basis van de eigenschappen van items, in dit geval films. We gebruiken de kenmerken zoals `Genre`, `Actors`, `Plot`, `Title`, `Director`, en `Country` om de overeenkomst tussen films te berekenen. Deze aanpak is nuttig voor aanbevelingen waarbij de inhoud van een film overeenkomt met films die een gebruiker al leuk vindt.\n",
    "\n",
    "### Hoe werkt het?\n",
    "Het systeem berekent de overeenkomst tussen films door een **TF-IDF vectorizer** te gebruiken om woorden in de kenmerken te transformeren naar numerieke representaties, gevolgd door het berekenen van **cosine similarity** om de overeenkomst tussen films te meten. Dit betekent dat films met vergelijkbare genres, acteurs of verhaallijnen waarschijnlijk aan elkaar worden aanbevolen.\n",
    "\n",
    "### Functie: `get_content_based_recommendations`\n",
    "De functie `get_content_based_recommendations` maakt aanbevelingen voor een specifieke film gebaseerd op de inhoudskenmerken. Hier is een stap-voor-stap uitleg van hoe de functie werkt:\n",
    "\n",
    "1. **Combineer Kenmerken**: De functie voegt `Plot`, `Title`, `Genre`, `Director`, en `Country` samen tot één enkele tekstuele feature. Dit maakt het eenvoudiger om overeenkomsten tussen films te berekenen.\n",
    "2. **TF-IDF Vectorisatie**: Een TF-IDF vectorizer zet deze gecombineerde kenmerken om naar een numerieke representatie, waarbij veelvoorkomende woorden minder gewicht krijgen.\n",
    "3. **Cosine Similarity Berekenen**: De functie berekent de cosine similarity tussen de geselecteerde film en alle andere films in de dataset.\n",
    "4. **Sorteren op Overeenkomst**: De films worden gesorteerd op basis van hun overeenkomst met de geselecteerde film, en de top N meest vergelijkbare films worden geselecteerd (behalve de gekozen film zelf).\n",
    "5. **Aanbevelingen Teruggeven**: Uiteindelijk geeft de functie een DataFrame terug met aanbevolen films.\n",
    "\n",
    "### Voorbeeld Code\n",
    "Hieronder zie je de code die de content-based aanbevelingen maakt:\n"
   ]
  },
  {
   "cell_type": "code",
   "execution_count": null,
   "metadata": {},
   "outputs": [],
   "source": [
    "from sklearn.feature_extraction.text import TfidfVectorizer\n",
    "from sklearn.metrics.pairwise import cosine_similarity\n",
    "import pandas as pd\n",
    "\n",
    "df_movies = pd.read_csv('data/movies.csv')\n",
    "\n",
    "\n",
    "def get_content_based_recommendations(movie_id, df, top_n=6):\n",
    "    # Combine 'Genre' and 'Actors' into a single feature for similarity calculation\n",
    "    df['combined_features'] = df['Plot'].fillna('') + ' ' + df['Title'].fillna('') + ' ' + df['Genre'].fillna('') + ' ' + df['Director'].fillna('') + ' ' + df['Country'].fillna('')\n",
    "    \n",
    "    # Initialize the TF-IDF vectorizer\n",
    "    tfidf_vectorizer = TfidfVectorizer(stop_words='english')\n",
    "    \n",
    "    # Fit and transform the combined features\n",
    "    tfidf_matrix = tfidf_vectorizer.fit_transform(df['combined_features'])\n",
    "    \n",
    "    # Calculate cosine similarity matrix\n",
    "    cosine_sim = cosine_similarity(tfidf_matrix, tfidf_matrix)\n",
    "    \n",
    "    # Get the index of the selected movie based on its movieId\n",
    "    idx = df.index[df['movieId'] == movie_id].tolist()[0]\n",
    "    \n",
    "    # Get similarity scores for this movie, sorted by similarity\n",
    "    similarity_scores = list(enumerate(cosine_sim[idx]))\n",
    "    similarity_scores = sorted(similarity_scores, key=lambda x: x[1], reverse=True)\n",
    "    \n",
    "    # Get indices of the most similar movies (excluding the selected movie itself)\n",
    "    similar_movie_indices = [i[0] for i in similarity_scores[1:top_n + 1]]\n",
    "    \n",
    "    # Return DataFrame of recommended movies\n",
    "    return df.iloc[similar_movie_indices]"
   ]
  },
  {
   "cell_type": "code",
   "execution_count": null,
   "metadata": {},
   "outputs": [],
   "source": [
    "df_movies[df_movies['movieId'] == 3114]"
   ]
  },
  {
   "cell_type": "code",
   "execution_count": null,
   "metadata": {},
   "outputs": [],
   "source": [
    "get_content_based_recommendations(3114, df_movies, top_n=6)"
   ]
  }
 ],
 "metadata": {
  "kernelspec": {
   "display_name": "Python 3",
   "language": "python",
   "name": "python3"
  },
  "language_info": {
   "codemirror_mode": {
    "name": "ipython",
    "version": 3
   },
   "file_extension": ".py",
   "mimetype": "text/x-python",
   "name": "python",
   "nbconvert_exporter": "python",
   "pygments_lexer": "ipython3",
   "version": "3.12.1"
  }
 },
 "nbformat": 4,
 "nbformat_minor": 2
}
