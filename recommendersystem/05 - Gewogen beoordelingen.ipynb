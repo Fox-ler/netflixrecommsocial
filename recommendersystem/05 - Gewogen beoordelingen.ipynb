{
 "cells": [
  {
   "cell_type": "markdown",
   "metadata": {},
   "source": [
    "# 🍿 Aanbevelingen gebaseerd op gewogen beoordelingen\n",
    "\n",
    "In dit notebook berekenen we gewogen beoordelingen voor elke film om robuustere aanbevelingen te maken. In plaats van alleen op de gemiddelde beoordeling te vertrouwen, die beïnvloed kan worden door een klein aantal beoordelingen, gebruiken we een gewogen benadering om ervoor te zorgen dat films met meer beoordelingen betrouwbaarder worden meegewogen.\n",
    "\n",
    "De formule voor de gewogen beoordeling die we zullen gebruiken is geïnspireerd door de IMDB gewogen beoordelingsformule:\n",
    "\n",
    "$$\n",
    "W = \\frac{Rv + Cm}{v + m}\n",
    "$$\n",
    "\n",
    "waarbij:\n",
    "\n",
    "- $( W )$ = Gewogen Beoordeling\n",
    "- $( R )$ = Gemiddelde beoordeling van de film\n",
    "- $( v )$ = Aantal stemmen (of beoordelingen) voor de film\n",
    "- $( m )$ = Minimum aantal stemmen vereist voor opname\n",
    "- $( C )$ = Gemiddelde stem (of beoordeling) over alle films\n"
   ]
  },
  {
   "cell_type": "markdown",
   "metadata": {},
   "source": [
    "### 3. Compare recommendations based on average rating and weighted ratings\n",
    "Review the interface to note any significant differences with this method."
   ]
  },
  {
   "cell_type": "code",
   "execution_count": null,
   "metadata": {},
   "outputs": [],
   "source": [
    "import pandas as pd\n",
    "\n",
    "df = pd.read_csv('data/ratings.csv')\n",
    "df = df.groupby(['movieId'])['rating'].agg(['mean', 'count']).reset_index()\n",
    "\n",
    "# C is the mean vote across the whole report\n",
    "C = df['mean'].mean()\n",
    "\n",
    "movie_rating_counts = df.groupby('movieId').size()\n",
    "\n",
    "# m is the minimum votes required to be listed in the chart;\n",
    "m = df['count'].quantile(0.90)\n",
    "\n",
    "# filter out all qualified movies into a new DataFrame\n",
    "df = df.loc[df['count'] >= m]\n",
    "\n",
    "def weighted_rating(x, m=m, C=C):\n",
    "  v = x['count']\n",
    "  R = x['mean']\n",
    "  return ((R*v)+ (C*m))/(v+m)\n",
    "\n",
    "df['weight'] = df.apply(weighted_rating, axis=1)\n",
    "\n",
    "df = df.sort_values('weight', ascending=False).head(10)\n",
    "df = df[['movieId', 'weight']]\n",
    "\n",
    "df"
   ]
  },
  {
   "cell_type": "markdown",
   "metadata": {},
   "source": [
    "### 2. Sla de aanbevelingen op\n",
    "Kies de top 10 boeken op basis van hun gewogen beoordelingen en sla deze aanbevelingen op als `recommendations-ratings-weight.csv`. Werk daarna de app-directory bij door het bestaande bestand te vervangen. Zorg ervoor dat het bestand de kolommen `movieId;weight` bevat."
   ]
  },
  {
   "cell_type": "code",
   "execution_count": null,
   "metadata": {},
   "outputs": [],
   "source": [
    "df.to_csv('recommendations-ratings-weight.csv', index=False)"
   ]
  }
 ],
 "metadata": {
  "kernelspec": {
   "display_name": "Python 3",
   "language": "python",
   "name": "python3"
  },
  "language_info": {
   "codemirror_mode": {
    "name": "ipython",
    "version": 3
   },
   "file_extension": ".py",
   "mimetype": "text/x-python",
   "name": "python",
   "nbconvert_exporter": "python",
   "pygments_lexer": "ipython3",
   "version": "3.12.1"
  }
 },
 "nbformat": 4,
 "nbformat_minor": 2
}
