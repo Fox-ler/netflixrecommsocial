{
 "cells": [
  {
   "cell_type": "markdown",
   "metadata": {},
   "source": [
    "# 🔬🍿 Data exploratie en voorbereiding\n",
    "In deze notebook gaan we de dataset onderzoeken. Gebruik de verschillende Exploratory Data Analysis (EDA) methoden die je vorige sprint geleerd hebt."
   ]
  },
  {
   "cell_type": "markdown",
   "metadata": {},
   "source": [
    "### 1. Het laden van de data\n",
    "Laad de vier datasets en verken de gegevens."
   ]
  },
  {
   "cell_type": "code",
   "execution_count": null,
   "metadata": {},
   "outputs": [],
   "source": [
    "# code goes here"
   ]
  }
 ],
 "metadata": {
  "kernelspec": {
   "display_name": "Python 3",
   "language": "python",
   "name": "python3"
  },
  "language_info": {
   "name": "python",
   "version": "3.12.1"
  }
 },
 "nbformat": 4,
 "nbformat_minor": 2
}
