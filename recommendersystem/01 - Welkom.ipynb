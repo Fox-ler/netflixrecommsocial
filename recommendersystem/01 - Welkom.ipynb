{
 "cells": [
  {
   "cell_type": "markdown",
   "metadata": {},
   "source": [
    "# 👋🏻 Welkom bij de Movie Recommender System Workshop 👋🏻\n",
    "In deze workshop bouwen we een eenvoudige recommender systeem met behulp van de MovieLens Latest Dataset. De MovieLens dataset is een bekende benchmark in de wereld van recommender systemen en wordt veel gebruikt voor academische doeleinden. De MovieLens Latest Dataset bevat gebruikersbeoordelingen en tags voor duizenden films. De dataset bevat 100.000 beoordelingen en 3.600 tag-toepassingen voor ongeveer 9.000 films die beoordeeld zijn door 600 gebruikers. Deze dataset is bedoeld voor snel prototypen en is een goede keuze voor kleinere projecten of workshops zoals de onze.\n",
    "\n",
    "Om de aanbevelingservaring te verrijken, heb ik deze dataset uitgebreid met behulp van de OMDb API, die extra details biedt, zoals filmposters en plotbeschrijvingen. Deze uitbreiding stelt ons in staat om filmgegevens op een visueel aantrekkelijkere manier weer te geven bij het genereren van aanbevelingen.\n",
    "\n",
    "### Wat Je Gaat Leren\n",
    "Tijdens deze workshop leer je:\n",
    "\n",
    "- Generate movie recommendations based on ratings: Leer om films aan te bevelen aan gebruikers door hun beoordelingen en die van anderen te analyseren.\n",
    "- Create simple content-based recommendations: Aanbevelen van films op basis van gelijkenissen in content, zoals genres of sleutelwoorden.\n",
    "- Visualize recommendations in Streamlit: Presenteer je aanbevelingen in een interactieve, webgebaseerde interface.\n",
    "\n",
    "Aan het einde van deze workshop heb je een basisbegrip van recommender systemen en ervaring met het gebruik van een real-world dataset die verrijkt is met visuele elementen. Laten we beginnen!"
   ]
  }
 ],
 "metadata": {
  "language_info": {
   "name": "python"
  }
 },
 "nbformat": 4,
 "nbformat_minor": 2
}
